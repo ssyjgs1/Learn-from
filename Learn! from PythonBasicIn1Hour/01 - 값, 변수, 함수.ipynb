{
 "cells": [
  {
   "attachments": {},
   "cell_type": "markdown",
   "metadata": {},
   "source": [
    "강의 영상 : https://youtu.be/6PvnVwbod5g?list=PLb1ZAPotBwi6A_LGggE5vOuvo0y7mJ2hK"
   ]
  },
  {
   "attachments": {},
   "cell_type": "markdown",
   "metadata": {},
   "source": [
    "# Value / Variable / Function\n",
    "- value | 값 = 데이터를 의미함(ex. 식재료)\n",
    "- variable | 변수 = 값을 지칭하는 추상적인 이름(ex. 요리책에 나오는 준비물)\n",
    "- function | 함수 = 데이터를 처리하는 방법을 나열한 것(ex. 요리책에서 알려주는 지침서)\n",
    "\n",
    "함수를 정의하기 위해서는 variable을 사용한다. "
   ]
  },
  {
   "cell_type": "code",
   "execution_count": 1,
   "metadata": {},
   "outputs": [
    {
     "name": "stdout",
     "output_type": "stream",
     "text": [
      "1\n",
      "Hello World!\n"
     ]
    }
   ],
   "source": [
    "# Value\n",
    "print(1)\n",
    "print(\"Hello World!\")"
   ]
  },
  {
   "cell_type": "code",
   "execution_count": 6,
   "metadata": {},
   "outputs": [],
   "source": [
    "# Variable\n",
    "# \"variable = value\" --> assigning value to variable | assign = 할당하다\n",
    "vegetable = \"avocado\""
   ]
  },
  {
   "cell_type": "code",
   "execution_count": 7,
   "metadata": {},
   "outputs": [
    {
     "data": {
      "text/plain": [
       "'avocado'"
      ]
     },
     "execution_count": 7,
     "metadata": {},
     "output_type": "execute_result"
    }
   ],
   "source": [
    "vegetable"
   ]
  },
  {
   "cell_type": "code",
   "execution_count": 8,
   "metadata": {},
   "outputs": [],
   "source": [
    "# variable character 1\n",
    "# variable can change its value\n",
    "vegetable = \"carrot\""
   ]
  },
  {
   "cell_type": "code",
   "execution_count": 9,
   "metadata": {},
   "outputs": [
    {
     "data": {
      "text/plain": [
       "'carrot'"
      ]
     },
     "execution_count": 9,
     "metadata": {},
     "output_type": "execute_result"
    }
   ],
   "source": [
    "vegetable"
   ]
  },
  {
   "cell_type": "code",
   "execution_count": 10,
   "metadata": {},
   "outputs": [],
   "source": [
    "# variable character 2\n",
    "# value can be assigned to multiple variables\n",
    "decorate = \"carrot\""
   ]
  },
  {
   "cell_type": "code",
   "execution_count": 11,
   "metadata": {},
   "outputs": [
    {
     "name": "stdout",
     "output_type": "stream",
     "text": [
      "carrot\n",
      "carrot\n"
     ]
    }
   ],
   "source": [
    "print(vegetable)\n",
    "print(decorate)"
   ]
  },
  {
   "cell_type": "code",
   "execution_count": 1,
   "metadata": {},
   "outputs": [],
   "source": [
    "# function\n",
    "def make_sandwich(cheese, bread, vegetable) :\n",
    "    sandwich = bread + cheese + vegetable + bread\n",
    "    return sandwich # return은 함수의 결과값을 준다는 뜻"
   ]
  }
 ],
 "metadata": {
  "kernelspec": {
   "display_name": "latest",
   "language": "python",
   "name": "python3"
  },
  "language_info": {
   "codemirror_mode": {
    "name": "ipython",
    "version": 3
   },
   "file_extension": ".py",
   "mimetype": "text/x-python",
   "name": "python",
   "nbconvert_exporter": "python",
   "pygments_lexer": "ipython3",
   "version": "3.10.8"
  },
  "orig_nbformat": 4
 },
 "nbformat": 4,
 "nbformat_minor": 2
}
