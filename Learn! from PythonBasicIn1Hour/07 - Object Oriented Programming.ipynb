{
 "cells": [
  {
   "attachments": {},
   "cell_type": "markdown",
   "metadata": {},
   "source": [
    "강의 영상 : https://youtu.be/02LoVLQUpSQ?list=PLb1ZAPotBwi6A_LGggE5vOuvo0y7mJ2hK"
   ]
  },
  {
   "attachments": {},
   "cell_type": "markdown",
   "metadata": {},
   "source": [
    "# Object\n",
    "- 값(`data`)을 갖고 행동(`method` | `처리`)을 할 수 있다면 이걸 객체라고 한다.\n",
    "- ex. `x = [1, 2, 3]` | `x.append(4)` | `print(x)` | `[1, 2, 3, 4]`\n",
    "- ex. `x = \"hello world\"` | `x.split()` | `['hello', 'world']`"
   ]
  },
  {
   "attachments": {},
   "cell_type": "markdown",
   "metadata": {},
   "source": [
    "## Class = 설계도\n",
    "`class`는 새로운 오브젝트의 설계도라고 볼 수 있다. 오브젝트는 값(`attribute`)과 행동(`method`)를 갖고 있어야 한다.\n",
    "\n",
    "강아지를 예시로 들어보자.  \n",
    "\n",
    "강아지를 구성하는 값(`attribute`)\n",
    "- 종(breed)\n",
    "- 색상(color)\n",
    "- 몸무게(weight)\n",
    "- 크기(size)\n",
    "- 이름(name)\n",
    "\n",
    "강아지가 하는 행동(`method`)\n",
    "- 냄새 맡기(sniff)\n",
    "- 밥 먹기(eat)\n",
    "- 공놀이 하기(catch ball)\n",
    "- 꼬리 흔들기(wag tail)\n",
    "\n",
    "하지만 설계도가 있다고 해서 강아지가 딱 나오진 않는다. 값에다가 실제로 내가 원하는 강아지가 어떤 강아지인지를 넣어줘야 강아지가 나온다.\n",
    "\n",
    "`instance`는 설계도에 원하는 데이터를 집어넣어서 나온 실체라고 볼 수 있다.\n",
    "\n",
    "강아지를 구성하는 값(`attribute`)\n",
    "- 종(breed)\n",
    "    - 말티즈\n",
    "- 색상(color)\n",
    "    - 흰색\n",
    "- 몸무게(weight)\n",
    "    - 3kg\n",
    "- 크기(size)\n",
    "    - 스몰\n",
    "- 이름(name)\n",
    "    - 대왕이"
   ]
  }
 ],
 "metadata": {
  "language_info": {
   "name": "python"
  },
  "orig_nbformat": 4
 },
 "nbformat": 4,
 "nbformat_minor": 2
}
