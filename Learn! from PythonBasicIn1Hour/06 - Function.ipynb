{
 "cells": [
  {
   "attachments": {},
   "cell_type": "markdown",
   "metadata": {},
   "source": [
    "강의 영상 : https://youtu.be/4bh-z6ARoUQ?list=PLb1ZAPotBwi6A_LGggE5vOuvo0y7mJ2hK"
   ]
  },
  {
   "attachments": {},
   "cell_type": "markdown",
   "metadata": {},
   "source": [
    "# Function\n",
    "- 함수 정의  \n",
    "    def 함수명(parameters) :    \n",
    "        code  \n",
    "- Parameter(매개 변수)  \n",
    "    - 함수 내에서 사용할 변수([주의]함수 밖에서는 사용할 수 없음!)  \n",
    "- Argument(전달 인자)  \n",
    "    - parameter로 전달된 값  "
   ]
  },
  {
   "cell_type": "code",
   "execution_count": 1,
   "metadata": {},
   "outputs": [
    {
     "name": "stdout",
     "output_type": "stream",
     "text": [
      "Elon hit like button!\n",
      "Steve hit like button!\n"
     ]
    }
   ],
   "source": [
    "# 함수명 : briefing\n",
    "# Parameter : user_names\n",
    "# Argument : liked_users\n",
    "\n",
    "def briefing(user_names) :\n",
    "    \"\"\"\n",
    "    좋아요를 누른 유저 명 출력하기 - user_names[list] : 좋아요를 누른 유저 이름 리스트\n",
    "    \"\"\"\n",
    "    if len(user_names) > 0 :\n",
    "        for user in user_names :\n",
    "            print(user, \"hit like button!\")\n",
    "    else :\n",
    "        print(\"No one hit like button :(\")\n",
    "\n",
    "liked_users = [\"Elon\", \"Steve\"]\n",
    "briefing(liked_users)"
   ]
  },
  {
   "attachments": {},
   "cell_type": "markdown",
   "metadata": {},
   "source": [
    "- 일반적으로 함수 실행 시, parameter에 값을 반드시 입력해야 함. 아니면 `error`가 남\n",
    "- Default Parameter"
   ]
  },
  {
   "cell_type": "code",
   "execution_count": 2,
   "metadata": {},
   "outputs": [
    {
     "ename": "TypeError",
     "evalue": "briefing() missing 1 required positional argument: 'user_names'",
     "output_type": "error",
     "traceback": [
      "\u001b[1;31m---------------------------------------------------------------------------\u001b[0m",
      "\u001b[1;31mTypeError\u001b[0m                                 Traceback (most recent call last)",
      "\u001b[1;32mc:\\Users\\ssyjg\\Documents\\GitHub-Windows 11\\My-Playground\\Learn! from PythonBasicIn1Hour\\06 - Function.ipynb 셀 5\u001b[0m in \u001b[0;36m1\n\u001b[1;32m----> <a href='vscode-notebook-cell:/c%3A/Users/ssyjg/Documents/GitHub-Windows%2011/My-Playground/Learn%21%20from%20PythonBasicIn1Hour/06%20-%20Function.ipynb#W3sZmlsZQ%3D%3D?line=0'>1</a>\u001b[0m briefing()\n",
      "\u001b[1;31mTypeError\u001b[0m: briefing() missing 1 required positional argument: 'user_names'"
     ]
    }
   ],
   "source": [
    "briefing()"
   ]
  },
  {
   "cell_type": "code",
   "execution_count": 3,
   "metadata": {},
   "outputs": [
    {
     "name": "stdout",
     "output_type": "stream",
     "text": [
      "No one hit like button :(\n"
     ]
    }
   ],
   "source": [
    "def briefing(user_names=[]) :\n",
    "    if len(user_names) > 0 :\n",
    "        for user in user_names :\n",
    "            print(user, \"hit like button!\")\n",
    "    else :\n",
    "        print(\"No one hit like button :(\")\n",
    "\n",
    "briefing()"
   ]
  },
  {
   "attachments": {},
   "cell_type": "markdown",
   "metadata": {},
   "source": [
    "- `Argument` 입력 시 순서가 중요! 그래서 이를 `Positional Argument`라고 부름. 만약 파라미터 갯수가 10+? 순서를 어떻게 기억?\n",
    "- `Keyword Argument`\n",
    "    - `parameter = (argument) value` 직접 맵핑\n",
    "    - 파라미터 순서를 따르지 않아도 됨\n",
    "    - [주의] `keyword argument`는 항상 제일 마지막에 입력"
   ]
  },
  {
   "cell_type": "code",
   "execution_count": 4,
   "metadata": {},
   "outputs": [
    {
     "name": "stdout",
     "output_type": "stream",
     "text": [
      "Elon hit like button!\n",
      "Elon total likes :  2\n",
      "Steve hit like button!\n",
      "Steve total likes :  6\n"
     ]
    }
   ],
   "source": [
    "def briefing(user_like_histories, user_names=[]) :\n",
    "    \"\"\"\n",
    "    좋아요를 누른 유저명을 출력하고 유저 히스토리를 업데이트 하기\n",
    "    - user_like_histories [dict] : 유저 이름(key)과 좋아요 누른 총 갯수(value) 딕셔너리\n",
    "    - user_names [list] : 좋아요를 누른 유저 이름 리스트\n",
    "    \"\"\"\n",
    "    if len(user_names) > 0 :\n",
    "        for user in user_names :\n",
    "            print(user, \"hit like button!\")\n",
    "            user_like_histories[user] += 1\n",
    "            print(user, \"total likes : \", user_like_histories[user])\n",
    "    else :\n",
    "        print(\"No one hit like button :(\")\n",
    "\n",
    "# 유저가 내 동영상에 좋아요 누른 수를 기록\n",
    "user_like_histories = {\n",
    "    \"Elon\" : 1,\n",
    "    \"Steve\" : 5,\n",
    "    \"Bill\" : 2,\n",
    "    \"Sundar\" : 0\n",
    "}\n",
    "\n",
    "briefing(user_names=liked_users, user_like_histories=user_like_histories)"
   ]
  },
  {
   "cell_type": "code",
   "execution_count": 5,
   "metadata": {},
   "outputs": [
    {
     "ename": "SyntaxError",
     "evalue": "positional argument follows keyword argument (296954821.py, line 1)",
     "output_type": "error",
     "traceback": [
      "\u001b[1;36m  Cell \u001b[1;32mIn [5], line 1\u001b[1;36m\u001b[0m\n\u001b[1;33m    briefing(user_names=liked_users, user_like_histories)\u001b[0m\n\u001b[1;37m                                                        ^\u001b[0m\n\u001b[1;31mSyntaxError\u001b[0m\u001b[1;31m:\u001b[0m positional argument follows keyword argument\n"
     ]
    }
   ],
   "source": [
    "briefing(user_names=liked_users, user_like_histories)"
   ]
  },
  {
   "cell_type": "code",
   "execution_count": 6,
   "metadata": {},
   "outputs": [
    {
     "name": "stdout",
     "output_type": "stream",
     "text": [
      "No one hit like button :(\n"
     ]
    }
   ],
   "source": [
    "briefing(user_like_histories)"
   ]
  },
  {
   "attachments": {},
   "cell_type": "markdown",
   "metadata": {},
   "source": [
    "- return(반환값)\n",
    "    - 함수를 실행한 후 결과 값을 받고 싶을 때 `return`을 사용"
   ]
  },
  {
   "cell_type": "code",
   "execution_count": 7,
   "metadata": {},
   "outputs": [],
   "source": [
    "def count_likes(user_names=[]) :\n",
    "    return len(user_names)"
   ]
  },
  {
   "cell_type": "code",
   "execution_count": 8,
   "metadata": {},
   "outputs": [],
   "source": [
    "counts = count_likes(liked_users)"
   ]
  },
  {
   "cell_type": "code",
   "execution_count": 9,
   "metadata": {},
   "outputs": [
    {
     "name": "stdout",
     "output_type": "stream",
     "text": [
      "2\n"
     ]
    }
   ],
   "source": [
    "print(counts)"
   ]
  }
 ],
 "metadata": {
  "kernelspec": {
   "display_name": "latest",
   "language": "python",
   "name": "python3"
  },
  "language_info": {
   "codemirror_mode": {
    "name": "ipython",
    "version": 3
   },
   "file_extension": ".py",
   "mimetype": "text/x-python",
   "name": "python",
   "nbconvert_exporter": "python",
   "pygments_lexer": "ipython3",
   "version": "3.10.8"
  },
  "orig_nbformat": 4
 },
 "nbformat": 4,
 "nbformat_minor": 2
}
