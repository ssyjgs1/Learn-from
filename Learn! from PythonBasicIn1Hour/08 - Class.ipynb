{
 "cells": [
  {
   "attachments": {},
   "cell_type": "markdown",
   "metadata": {},
   "source": [
    "강의 영상 : https://youtu.be/Ygp5GD7FmiQ?list=PLb1ZAPotBwi6A_LGggE5vOuvo0y7mJ2hK"
   ]
  },
  {
   "attachments": {},
   "cell_type": "markdown",
   "metadata": {},
   "source": [
    "# Class"
   ]
  },
  {
   "cell_type": "code",
   "execution_count": null,
   "metadata": {},
   "outputs": [],
   "source": [
    "class ClassName :\n",
    "    '''ㅁㅁㅁㅁ'''\n",
    "\n",
    "# 예시\n",
    "class Dog :\n",
    "    '''ㅁㅁㅁㅁ'''"
   ]
  },
  {
   "attachments": {},
   "cell_type": "markdown",
   "metadata": {},
   "source": [
    "# Instance\n",
    "- 인스턴스는 클래스에 실제 데이터를 입력한 객체를 일컫는 말\n",
    "- 하나의 클래스에서 무수히 많은 인스턴스를 생성할 수 있음\n",
    "- 인스턴스마다 `attribute` 값이 다를 수 있음\n",
    "- 인스턴스 생성\n",
    "    - `beagle = Dog()`, `maltese = Dog()`\n",
    "- 클래스의 `attribute`, `method`에 접근\n",
    "    - `attribute`\n",
    "        - `beagle.breed # beagle`\n",
    "    - `method`\n",
    "        - `maltese.sniff() # \"킁킁킁\"`"
   ]
  },
  {
   "attachments": {},
   "cell_type": "markdown",
   "metadata": {},
   "source": [
    "# Self\n",
    "- 클래스의 `attribute`나 `method`에 반드시 `self` 키워드를 입력해야 함\n",
    "- `self`는 인스턴스를 의미함"
   ]
  },
  {
   "attachments": {},
   "cell_type": "markdown",
   "metadata": {},
   "source": [
    "## Method 정의\n",
    "- 첫 번째 파라미터는 반드시 `self`를 입력"
   ]
  },
  {
   "cell_type": "code",
   "execution_count": 13,
   "metadata": {},
   "outputs": [],
   "source": [
    "class ClassName :\n",
    "    \n",
    "    def method_name(self, parameters) :\n",
    "        pass"
   ]
  },
  {
   "cell_type": "code",
   "execution_count": 14,
   "metadata": {},
   "outputs": [],
   "source": [
    "class Dog :\n",
    "    \n",
    "    def sniff(self, sound:str) :\n",
    "        print(sound * 5)"
   ]
  },
  {
   "cell_type": "code",
   "execution_count": 15,
   "metadata": {},
   "outputs": [],
   "source": [
    "# Dog 클래스의 인스턴스 생성\n",
    "maltese = Dog()"
   ]
  },
  {
   "cell_type": "code",
   "execution_count": 16,
   "metadata": {},
   "outputs": [
    {
     "name": "stdout",
     "output_type": "stream",
     "text": [
      "킁킁킁킁킁\n"
     ]
    }
   ],
   "source": [
    "# \".\"로  method 실행 가능\n",
    "maltese.sniff(sound=\"킁\")"
   ]
  },
  {
   "attachments": {},
   "cell_type": "markdown",
   "metadata": {},
   "source": [
    "## Attribute 정의\n",
    "- 클래스에 데이터를 입력하기 위해서는 `__init__()` 메소드를 사용\n",
    "    - initialize | 초기화하다, 준비동작에 들어가다\n",
    "- `__init__()` 메소드는 인스턴스가 생성될 때 가장 먼저 실행되는 메소드. 따라서 `생성자(constructor)`라고도 함.\n",
    "- `attribute` 앞에 `self`를 입력"
   ]
  },
  {
   "cell_type": "code",
   "execution_count": 4,
   "metadata": {},
   "outputs": [],
   "source": [
    "class ClassName :\n",
    "    def __init__(self, value1:str) :\n",
    "        self.attribute1 = value1"
   ]
  },
  {
   "cell_type": "code",
   "execution_count": 17,
   "metadata": {},
   "outputs": [],
   "source": [
    "class Dog :\n",
    "\n",
    "    def __init__(self, name:str) :\n",
    "        self.name = name\n",
    "    \n",
    "    def sniff(self, sound:str) :\n",
    "        print(f\"{self.name}가 이렇게 냄새를 맡는다 : {sound * 5}\")"
   ]
  },
  {
   "cell_type": "code",
   "execution_count": 18,
   "metadata": {},
   "outputs": [],
   "source": [
    "# Dog 클래스의 인스턴스 생성\n",
    "beagle = Dog(name=\"초코\")\n",
    "maltese = Dog(name=\"대왕\")"
   ]
  },
  {
   "cell_type": "code",
   "execution_count": 19,
   "metadata": {},
   "outputs": [
    {
     "name": "stdout",
     "output_type": "stream",
     "text": [
      "초코\n",
      "대왕\n"
     ]
    }
   ],
   "source": [
    "# \".\"로 attribute 접근 가능\n",
    "print(beagle.name)\n",
    "print(maltese.name)"
   ]
  },
  {
   "cell_type": "code",
   "execution_count": 20,
   "metadata": {},
   "outputs": [
    {
     "name": "stdout",
     "output_type": "stream",
     "text": [
      "초코가 이렇게 냄새를 맡는다 : 컹컹컹컹컹\n",
      "대왕가 이렇게 냄새를 맡는다 : 왕왕왕왕왕\n"
     ]
    }
   ],
   "source": [
    "# \".\"로 method 접근 가능\n",
    "beagle.sniff(\"컹\")\n",
    "maltese.sniff(\"왕\")"
   ]
  },
  {
   "attachments": {},
   "cell_type": "markdown",
   "metadata": {},
   "source": [
    "# 상속(Inheritance)\n",
    "- 자식은 부모의 `attribute`와 `method`를 물려 받는다.\n",
    "    - 효율성\n",
    "- 자식은 물려 받은 부모의 `attribute`, `method`를\n",
    "    - 추가할 수 있다.\n",
    "    - 변경할 수 있다."
   ]
  },
  {
   "cell_type": "code",
   "execution_count": null,
   "metadata": {},
   "outputs": [],
   "source": [
    "class Parent :\n",
    "\n",
    "class Child(Parent) :"
   ]
  },
  {
   "attachments": {},
   "cell_type": "markdown",
   "metadata": {},
   "source": [
    "## 1. 자식은 부모의 `attribute`, `method`를 물려 받는다."
   ]
  },
  {
   "cell_type": "code",
   "execution_count": 21,
   "metadata": {},
   "outputs": [],
   "source": [
    "class Maltese(Dog) :\n",
    "    pass # 아무것도 하지 않고 그냥 지나갈 거임"
   ]
  },
  {
   "cell_type": "code",
   "execution_count": null,
   "metadata": {},
   "outputs": [],
   "source": [
    "mydog = Maltese(\"Maltese\", \"대왕\", 3.6)"
   ]
  },
  {
   "cell_type": "code",
   "execution_count": null,
   "metadata": {},
   "outputs": [],
   "source": [
    "mydog.color\n",
    "# 'white'"
   ]
  },
  {
   "cell_type": "code",
   "execution_count": null,
   "metadata": {},
   "outputs": [],
   "source": [
    "mydog.eat()"
   ]
  },
  {
   "attachments": {},
   "cell_type": "markdown",
   "metadata": {},
   "source": [
    "## 2. 자식은 부모의 `attribute`, `method`를 변경 및 추가할 수 있다.\n",
    "- `overriding`(오버라이딩 = 덮어씌우기)\n",
    "    - 자식 클래스에서 정의한 메소드가 우선!\n",
    "    - 부모 클래스와 이름이 동일한 메소드는 오버라이딩 됨"
   ]
  },
  {
   "cell_type": "code",
   "execution_count": 25,
   "metadata": {},
   "outputs": [],
   "source": [
    "class Maltese(Dog) :\n",
    "    \n",
    "    def __init__(self, name:str, weight:float) :\n",
    "        self.name = name\n",
    "        self.weight = weight"
   ]
  },
  {
   "cell_type": "code",
   "execution_count": 26,
   "metadata": {},
   "outputs": [],
   "source": [
    "mydog = Maltese(\"대왕\", 3.4)"
   ]
  },
  {
   "cell_type": "code",
   "execution_count": null,
   "metadata": {},
   "outputs": [],
   "source": [
    "mydog.eat()\n",
    "# 대왕는 하루에 34.0g의 사료를 먹습니다."
   ]
  },
  {
   "cell_type": "code",
   "execution_count": 28,
   "metadata": {},
   "outputs": [
    {
     "name": "stdout",
     "output_type": "stream",
     "text": [
      "대왕가 이렇게 냄새를 맡는다 : 기쁨기쁨기쁨기쁨기쁨\n"
     ]
    }
   ],
   "source": [
    "mydog.sniff(\"기쁨\")"
   ]
  },
  {
   "cell_type": "code",
   "execution_count": 30,
   "metadata": {},
   "outputs": [
    {
     "ename": "AttributeError",
     "evalue": "'Maltese' object has no attribute 'color'",
     "output_type": "error",
     "traceback": [
      "\u001b[1;31m---------------------------------------------------------------------------\u001b[0m",
      "\u001b[1;31mAttributeError\u001b[0m                            Traceback (most recent call last)",
      "\u001b[1;32mc:\\Users\\ssyjg\\Documents\\GitHub-Windows 11\\My-Playground\\Learn! from PythonBasicIn1Hour\\08 - Class.ipynb 셀 29\u001b[0m in \u001b[0;36m1\n\u001b[1;32m----> <a href='vscode-notebook-cell:/c%3A/Users/ssyjg/Documents/GitHub-Windows%2011/My-Playground/Learn%21%20from%20PythonBasicIn1Hour/08%20-%20Class.ipynb#X42sZmlsZQ%3D%3D?line=0'>1</a>\u001b[0m mydog\u001b[39m.\u001b[39;49mcolor\n",
      "\u001b[1;31mAttributeError\u001b[0m: 'Maltese' object has no attribute 'color'"
     ]
    }
   ],
   "source": [
    "mydog.color"
   ]
  },
  {
   "cell_type": "code",
   "execution_count": 31,
   "metadata": {},
   "outputs": [
    {
     "ename": "AttributeError",
     "evalue": "'Maltese' object has no attribute 'size'",
     "output_type": "error",
     "traceback": [
      "\u001b[1;31m---------------------------------------------------------------------------\u001b[0m",
      "\u001b[1;31mAttributeError\u001b[0m                            Traceback (most recent call last)",
      "\u001b[1;32mc:\\Users\\ssyjg\\Documents\\GitHub-Windows 11\\My-Playground\\Learn! from PythonBasicIn1Hour\\08 - Class.ipynb 셀 30\u001b[0m in \u001b[0;36m1\n\u001b[1;32m----> <a href='vscode-notebook-cell:/c%3A/Users/ssyjg/Documents/GitHub-Windows%2011/My-Playground/Learn%21%20from%20PythonBasicIn1Hour/08%20-%20Class.ipynb#X43sZmlsZQ%3D%3D?line=0'>1</a>\u001b[0m mydog\u001b[39m.\u001b[39;49msize\n",
      "\u001b[1;31mAttributeError\u001b[0m: 'Maltese' object has no attribute 'size'"
     ]
    }
   ],
   "source": [
    "mydog.size"
   ]
  },
  {
   "attachments": {},
   "cell_type": "markdown",
   "metadata": {},
   "source": [
    "## 3. 부모 클래스의 `__init__()`에서 정의된 `attribute`를 사용하고 싶다면 `super()` 키워드를 사용하라\n",
    "- `super()`는 부모 클래스를 의미"
   ]
  },
  {
   "cell_type": "code",
   "execution_count": null,
   "metadata": {},
   "outputs": [],
   "source": [
    "class Maltese(Dog) :\n",
    "    def __init__(self, name:str, weight:float) :\n",
    "        self.name = name\n",
    "        self.weight = weight\n",
    "\n",
    "        super().__init__(\"Maltese\", self.name, self.weight)"
   ]
  },
  {
   "cell_type": "code",
   "execution_count": 32,
   "metadata": {},
   "outputs": [],
   "source": [
    "mydog = Maltese(\"대왕\", 3.4)"
   ]
  },
  {
   "cell_type": "code",
   "execution_count": null,
   "metadata": {},
   "outputs": [],
   "source": [
    "mydog.color\n",
    "# 'white'"
   ]
  },
  {
   "cell_type": "code",
   "execution_count": null,
   "metadata": {},
   "outputs": [],
   "source": [
    "mydog.size\n",
    "# 'small'"
   ]
  }
 ],
 "metadata": {
  "kernelspec": {
   "display_name": "latest",
   "language": "python",
   "name": "python3"
  },
  "language_info": {
   "codemirror_mode": {
    "name": "ipython",
    "version": 3
   },
   "file_extension": ".py",
   "mimetype": "text/x-python",
   "name": "python",
   "nbconvert_exporter": "python",
   "pygments_lexer": "ipython3",
   "version": "3.10.8"
  },
  "orig_nbformat": 4
 },
 "nbformat": 4,
 "nbformat_minor": 2
}
