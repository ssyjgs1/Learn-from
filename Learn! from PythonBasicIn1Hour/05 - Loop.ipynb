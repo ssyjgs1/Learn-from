{
 "cells": [
  {
   "attachments": {},
   "cell_type": "markdown",
   "metadata": {},
   "source": [
    "강의 영상 : https://youtu.be/NEyi3-e1ZXg?list=PLb1ZAPotBwi6A_LGggE5vOuvo0y7mJ2hK"
   ]
  },
  {
   "attachments": {},
   "cell_type": "markdown",
   "metadata": {},
   "source": [
    "# Loop\n",
    "\n",
    "## for\n",
    "- collection(list, tuple, set, dictionary)의 요소를 하나씩 순회하면서 변수에 담습니다. 변수를 이용해 데이터에 반복적인 처리를 합니다."
   ]
  },
  {
   "cell_type": "code",
   "execution_count": null,
   "metadata": {},
   "outputs": [],
   "source": [
    "for [변수] in [Collections or string] :\n",
    "    code"
   ]
  },
  {
   "attachments": {},
   "cell_type": "markdown",
   "metadata": {},
   "source": [
    "## while\n",
    "- 조건문이 참일 경우, code를 반복적으로 실행합니다."
   ]
  },
  {
   "cell_type": "code",
   "execution_count": null,
   "metadata": {},
   "outputs": [],
   "source": [
    "while [True] :\n",
    "    code"
   ]
  },
  {
   "attachments": {},
   "cell_type": "markdown",
   "metadata": {},
   "source": [
    "## control\n",
    "- 반복을 제어할 수 있는 2가지 키워드!\n",
    "- `continue`\n",
    "    - \"이번만, (내 밑에 있는 코드는 실행하지 말고) 지나가줘\"\n",
    "- `break`\n",
    "    - \"반복문을 종료해줘\"\n"
   ]
  },
  {
   "attachments": {},
   "cell_type": "markdown",
   "metadata": {},
   "source": [
    "## for loop"
   ]
  },
  {
   "cell_type": "code",
   "execution_count": 1,
   "metadata": {},
   "outputs": [],
   "source": [
    "user1 = {\n",
    "    \"name\" : \"Elon\",\n",
    "    \"like\" : 1, # 내 채널에서 좋아요를 누른 갯수\n",
    "    \"reported\" : True # 신고 당한 유저인가?\n",
    "}\n",
    "\n",
    "user2 = {\n",
    "    \"name\" : \"Steve\",\n",
    "    \"like\" : 5, # 내 채널에서 좋아요를 누른 갯수\n",
    "    \"reported\" : False # 신고 당한 유저인가?\n",
    "}\n",
    "\n",
    "user3 = {\n",
    "    \"name\" : \"Bil\",\n",
    "    \"like\" : 2, # 내 채널에서 좋아요를 누른 갯수\n",
    "    \"reported\" : False # 신고 당한 유저인가?\n",
    "}\n",
    "\n",
    "user4 = {\n",
    "    \"name\" : \"Sundar\",\n",
    "    \"like\" : 0, # 내 채널에서 좋아요를 누른 갯수\n",
    "    \"reported\" : False # 신고 당한 유저인가?\n",
    "}\n",
    "\n",
    "subscribers = [user1, user2, user3, user4]"
   ]
  },
  {
   "cell_type": "code",
   "execution_count": 2,
   "metadata": {},
   "outputs": [
    {
     "name": "stdout",
     "output_type": "stream",
     "text": [
      "Subscriber Name :  Elon\n",
      "Subscriber Name :  Steve\n",
      "Subscriber Name :  Bil\n",
      "Subscriber Name :  Sundar\n"
     ]
    }
   ],
   "source": [
    "# 구독자 이름 출력하기\n",
    "for user in subscribers :\n",
    "    print(\"Subscriber Name : \", user[\"name\"])"
   ]
  },
  {
   "cell_type": "code",
   "execution_count": 3,
   "metadata": {},
   "outputs": [
    {
     "name": "stdout",
     "output_type": "stream",
     "text": [
      "Subscriber Name :  Steve\n",
      "Subscriber Name :  Bil\n",
      "Subscriber Name :  Sundar\n"
     ]
    }
   ],
   "source": [
    "# [조건] 신고 당한 유저는 출력하지 않는다.\n",
    "for user in subscribers :\n",
    "    if user[\"reported\"] :\n",
    "        continue\n",
    "    print(\"Subscriber Name : \", user[\"name\"])"
   ]
  },
  {
   "attachments": {},
   "cell_type": "markdown",
   "metadata": {},
   "source": [
    "## while loop"
   ]
  },
  {
   "cell_type": "code",
   "execution_count": 4,
   "metadata": {},
   "outputs": [
    {
     "name": "stdout",
     "output_type": "stream",
     "text": [
      "x :  1\n",
      "x :  2\n",
      "x :  3\n",
      "x :  4\n",
      "x :  5\n"
     ]
    }
   ],
   "source": [
    "# x에 반복적으로 1을 더해보자\n",
    "x = 0\n",
    "while x < 5 :\n",
    "    x = x + 1 # x += 1\n",
    "    print(\"x : \", x)"
   ]
  },
  {
   "cell_type": "code",
   "execution_count": 5,
   "metadata": {},
   "outputs": [
    {
     "name": "stdout",
     "output_type": "stream",
     "text": [
      "x :  1\n",
      "x :  2\n",
      "x :  3\n",
      "x :  4\n",
      "x :  5\n"
     ]
    }
   ],
   "source": [
    "# 무한 루프 + break\n",
    "x = 0\n",
    "while True :\n",
    "    if x == 5 :\n",
    "        break\n",
    "    x += 1\n",
    "    print(\"x : \", x)"
   ]
  },
  {
   "attachments": {},
   "cell_type": "markdown",
   "metadata": {},
   "source": [
    "[도전]\n",
    "- Q : 신고 당하지 않은 구독자 2명의 이름을 출력해보자\n",
    "    - 조건 1 : 신고 당하지 않은 유저만 출력한다.\n",
    "    - 조건 2 : 조건 1을 만족하는 유저 2명을 출력했으면 loop를 빠져 나온다\n",
    "- Help\n",
    "    - `user_count`라는 변수를 생성해서 지금까지 출력한 구독자 수를 저장해본다. 조건문은 이 `user_count`라는 변수를 이용해 만들어본다.\n",
    "    - 구독자 목록인 `subscribers` 변수를 순회해야 한다. 순회할 때는 리스트의 인덱스를 `i`라는 변수에 담아본다.\n",
    "    - 출력문을 이렇게 만들어본다. \"Subscriber Count : (숫자) Name : (문자)\""
   ]
  },
  {
   "cell_type": "code",
   "execution_count": 6,
   "metadata": {},
   "outputs": [
    {
     "name": "stdout",
     "output_type": "stream",
     "text": [
      "subscriber Count :  0 Name :  Steve\n",
      "subscriber Count :  1 Name :  Bil\n"
     ]
    }
   ],
   "source": [
    "# [조건] 신고 당하지 않은 구독자 2명을 출력하기\n",
    "\n",
    "user_count = 0 # 출력한 구독자 수를 셈\n",
    "i = 0 # subscribers 리스트의 인덱스\n",
    "\n",
    "while user_count < 2 :\n",
    "    if subscribers[i]['reported'] == False :\n",
    "        print(\"subscriber Count : \", user_count, \"Name : \", subscribers[i][\"name\"])\n",
    "        user_count += 1\n",
    "    i += 1"
   ]
  }
 ],
 "metadata": {
  "kernelspec": {
   "display_name": "latest",
   "language": "python",
   "name": "python3"
  },
  "language_info": {
   "codemirror_mode": {
    "name": "ipython",
    "version": 3
   },
   "file_extension": ".py",
   "mimetype": "text/x-python",
   "name": "python",
   "nbconvert_exporter": "python",
   "pygments_lexer": "ipython3",
   "version": "3.10.8"
  },
  "orig_nbformat": 4
 },
 "nbformat": 4,
 "nbformat_minor": 2
}
