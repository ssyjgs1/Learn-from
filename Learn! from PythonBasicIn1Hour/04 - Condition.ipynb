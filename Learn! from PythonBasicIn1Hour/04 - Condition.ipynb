{
 "cells": [
  {
   "attachments": {},
   "cell_type": "markdown",
   "metadata": {},
   "source": [
    "강의 영상 : https://youtu.be/C7-CM-W6Gjs?list=PLb1ZAPotBwi6A_LGggE5vOuvo0y7mJ2hK"
   ]
  },
  {
   "attachments": {},
   "cell_type": "markdown",
   "metadata": {},
   "source": [
    "# Condition\n",
    "- It's time for `boolean` data type | `boolean` 데이터 타입이 빛을 발할 차례!\n",
    "- 추상화 코드"
   ]
  },
  {
   "cell_type": "code",
   "execution_count": null,
   "metadata": {},
   "outputs": [],
   "source": [
    "if [조건 1] :\n",
    "    A 코드\n",
    "\n",
    "if [조건 1] :\n",
    "    A 코드\n",
    "elif [조건 2] :\n",
    "    B 코드\n",
    "else :\n",
    "    C 코드"
   ]
  },
  {
   "attachments": {},
   "cell_type": "markdown",
   "metadata": {},
   "source": [
    "실제로는"
   ]
  },
  {
   "cell_type": "code",
   "execution_count": null,
   "metadata": {},
   "outputs": [],
   "source": [
    "if [True] :\n",
    "    A 코드\n",
    "elif [True] :\n",
    "    B 코드\n",
    "else :\n",
    "    C 코드"
   ]
  },
  {
   "attachments": {},
   "cell_type": "markdown",
   "metadata": {},
   "source": [
    "이런 경우는?"
   ]
  },
  {
   "cell_type": "code",
   "execution_count": null,
   "metadata": {},
   "outputs": [],
   "source": [
    "if [False] :\n",
    "    A\n",
    "C"
   ]
  },
  {
   "attachments": {},
   "cell_type": "markdown",
   "metadata": {},
   "source": [
    "## Let's code\n",
    "- 조건 1 : 유저는 동영상에 좋아요 1번만 누를 수 있음\n",
    "- 조건 2 : 신고당한 유저의 좋아요는 좋아요 수에 반영하지 않음"
   ]
  },
  {
   "cell_type": "code",
   "execution_count": 1,
   "metadata": {},
   "outputs": [],
   "source": [
    "user = {\n",
    "    \"name\" : \"Elon\",\n",
    "    \"like\" : True, # 좋아요를 눌렀는가?\n",
    "    \"reported\" : True # 신고당한 적이 있는가?\n",
    "}"
   ]
  },
  {
   "cell_type": "code",
   "execution_count": 2,
   "metadata": {},
   "outputs": [
    {
     "name": "stdout",
     "output_type": "stream",
     "text": [
      "You already liked it!\n"
     ]
    }
   ],
   "source": [
    "if user [\"like\"] :\n",
    "    print(\"You already liked it!\") # [1]"
   ]
  },
  {
   "cell_type": "code",
   "execution_count": 4,
   "metadata": {},
   "outputs": [],
   "source": [
    "user[\"like\"] = False"
   ]
  },
  {
   "cell_type": "code",
   "execution_count": 5,
   "metadata": {},
   "outputs": [
    {
     "name": "stdout",
     "output_type": "stream",
     "text": [
      "Reported user cannot click like button.\n"
     ]
    }
   ],
   "source": [
    "if user[\"like\"] :\n",
    "    print(\"You already liked it!\") # [1]\n",
    "elif user[\"reported\"] :\n",
    "    print(\"Reported user cannot click like button.\") # [2]"
   ]
  },
  {
   "cell_type": "code",
   "execution_count": 6,
   "metadata": {},
   "outputs": [],
   "source": [
    "user[\"reported\"] = False"
   ]
  },
  {
   "cell_type": "code",
   "execution_count": 7,
   "metadata": {},
   "outputs": [
    {
     "name": "stdout",
     "output_type": "stream",
     "text": [
      "Increase 1 like\n"
     ]
    }
   ],
   "source": [
    "if user[\"like\"] :\n",
    "    print(\"You already liked it!\") # [1]\n",
    "elif user[\"reported\"] :\n",
    "    print(\"Reported user cannot click like button.\") # [2]\n",
    "else :\n",
    "    print(\"Increase 1 like\") # [3]"
   ]
  },
  {
   "attachments": {},
   "cell_type": "markdown",
   "metadata": {},
   "source": [
    "### 비교 연산자를 사용해볼까요? (Let's use comparison operator!)"
   ]
  },
  {
   "cell_type": "code",
   "execution_count": 8,
   "metadata": {},
   "outputs": [
    {
     "data": {
      "text/plain": [
       "{'name': 'Elon', 'like': False, 'reported': False}"
      ]
     },
     "execution_count": 8,
     "metadata": {},
     "output_type": "execute_result"
    }
   ],
   "source": [
    "user"
   ]
  },
  {
   "cell_type": "code",
   "execution_count": 9,
   "metadata": {},
   "outputs": [],
   "source": [
    "user[\"like\"] = 0 # 해당 동영상에 like를 누른 횟수"
   ]
  },
  {
   "cell_type": "code",
   "execution_count": 10,
   "metadata": {},
   "outputs": [
    {
     "data": {
      "text/plain": [
       "False"
      ]
     },
     "execution_count": 10,
     "metadata": {},
     "output_type": "execute_result"
    }
   ],
   "source": [
    "user[\"like\"] > 0"
   ]
  },
  {
   "cell_type": "code",
   "execution_count": 11,
   "metadata": {},
   "outputs": [
    {
     "name": "stdout",
     "output_type": "stream",
     "text": [
      "Increase 1 like.\n"
     ]
    }
   ],
   "source": [
    "if user[\"like\"] > 0 :\n",
    "    print(\"You already liked it!\") # [1]\n",
    "elif user[\"reported\"] :\n",
    "    print(\"Reported user cannot click like button.\") # [2]\n",
    "else : \n",
    "    print(\"Increase 1 like.\") # [3]"
   ]
  },
  {
   "attachments": {},
   "cell_type": "markdown",
   "metadata": {},
   "source": [
    "### 함수로 만들어볼까요? (Make it to function!)"
   ]
  },
  {
   "cell_type": "code",
   "execution_count": 12,
   "metadata": {},
   "outputs": [],
   "source": [
    "def count_likes(user) : \n",
    "    if user[\"like\"] > 0 :\n",
    "        print(\"You already liked it!\") # [1]\n",
    "    elif user[\"reported\"] :\n",
    "        print(\"Reported user cannot click like button.\") # [2]\n",
    "    else : \n",
    "        print(\"Increase 1 like.\") # [3]\n",
    "        user[\"like\"] += 1 # user[\"like\"] = 1 or user[\"like\"] = user[\"like\"] + 1로 써도 됨\n",
    "    return user"
   ]
  },
  {
   "cell_type": "code",
   "execution_count": 13,
   "metadata": {},
   "outputs": [
    {
     "data": {
      "text/plain": [
       "{'name': 'Elon', 'like': 0, 'reported': False}"
      ]
     },
     "execution_count": 13,
     "metadata": {},
     "output_type": "execute_result"
    }
   ],
   "source": [
    "user"
   ]
  },
  {
   "cell_type": "code",
   "execution_count": 14,
   "metadata": {},
   "outputs": [
    {
     "name": "stdout",
     "output_type": "stream",
     "text": [
      "Increase 1 like.\n"
     ]
    }
   ],
   "source": [
    "user = count_likes(user)"
   ]
  },
  {
   "cell_type": "code",
   "execution_count": 15,
   "metadata": {},
   "outputs": [
    {
     "data": {
      "text/plain": [
       "{'name': 'Elon', 'like': 1, 'reported': False}"
      ]
     },
     "execution_count": 15,
     "metadata": {},
     "output_type": "execute_result"
    }
   ],
   "source": [
    "user"
   ]
  }
 ],
 "metadata": {
  "kernelspec": {
   "display_name": "latest",
   "language": "python",
   "name": "python3"
  },
  "language_info": {
   "codemirror_mode": {
    "name": "ipython",
    "version": 3
   },
   "file_extension": ".py",
   "mimetype": "text/x-python",
   "name": "python",
   "nbconvert_exporter": "python",
   "pygments_lexer": "ipython3",
   "version": "3.10.8"
  },
  "orig_nbformat": 4
 },
 "nbformat": 4,
 "nbformat_minor": 2
}
